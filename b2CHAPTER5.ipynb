{
  "nbformat": 4,
  "nbformat_minor": 0,
  "metadata": {
    "colab": {
      "provenance": [],
      "authorship_tag": "ABX9TyMk+pRX0URkygurypOhM6oE",
      "include_colab_link": true
    },
    "kernelspec": {
      "name": "python3",
      "display_name": "Python 3"
    },
    "language_info": {
      "name": "python"
    }
  },
  "cells": [
    {
      "cell_type": "markdown",
      "metadata": {
        "id": "view-in-github",
        "colab_type": "text"
      },
      "source": [
        "<a href=\"https://colab.research.google.com/github/ngoda/Conversations/blob/master/b2CHAPTER5.ipynb\" target=\"_parent\"><img src=\"https://colab.research.google.com/assets/colab-badge.svg\" alt=\"Open In Colab\"/></a>"
      ]
    },
    {
      "cell_type": "markdown",
      "source": [
        "**CHAPTER 5 - BOOK2**\n"
      ],
      "metadata": {
        "id": "65ZxTiUFOJ0o"
      }
    },
    {
      "cell_type": "markdown",
      "source": [
        "**Implementation of forward propagation method**"
      ],
      "metadata": {
        "id": "hU4KZS9zTO2m"
      }
    },
    {
      "cell_type": "code",
      "source": [
        "import sys\n",
        "sys.path.append('..')  # Adds parent directory to the system path\n",
        "from common.np import *  # Imports necessary NumPy functions\n",
        "from common.layers import *  # Imports common layers\n",
        "from common.functions import sigmoid  # Imports the sigmoid function\n",
        "\n"
      ],
      "metadata": {
        "id": "h7mcOZhITWTE"
      },
      "execution_count": 9,
      "outputs": []
    },
    {
      "cell_type": "code",
      "source": [
        "class RNN:\n",
        "    def __init__(self, Wx, Wh, b):\n",
        "        # Initialize the RNN cell with parameters Wx, Wh, and b\n",
        "        self.params = [Wx, Wh, b]  # Store the parameters\n",
        "        self.grads = [np.zeros_like(Wx), np.zeros_like(Wh), np.zeros_like(b)]  # Initialize gradients with zeros\n",
        "        self.cache = None  # Cache for storing intermediate data during backward pass\n",
        "\n",
        "    def forward(self, x, h_prev):\n",
        "        # Perform forward pass of the RNN cell\n",
        "        Wx, Wh, b = self.params\n",
        "        t = np.matmul(h_prev, Wh) + np.matmul(x, Wx) + b  # Compute the weighted sum\n",
        "        h_next = np.tanh(t)  # Apply the tanh activation function\n",
        "\n",
        "        self.cache = (x, h_prev, h_next)  # Cache the inputs and outputs for backward pass\n",
        "        return h_next\n",
        "\n",
        "    def backward(self, dh_next):\n",
        "        # Perform backward pass of the RNN cell\n",
        "        Wx, Wh, b = self.params\n",
        "        x, h_prev, h_next = self.cache\n",
        "\n",
        "        dt = dh_next * (1 - h_next ** 2)  # Compute gradient of tanh activation\n",
        "        db = np.sum(dt, axis=0)  # Gradient of the bias\n",
        "        dWh = np.dot(h_prev.T, dt)  # Gradient of the hidden-to-hidden weights\n",
        "        dh_prev = np.dot(dt, Wh.T)  # Gradient of the previous hidden state\n",
        "        dWx = np.dot(x.T, dt)  # Gradient of the input-to-hidden weights\n",
        "        dx = np.dot(dt, Wx.T)  # Gradient of the input\n",
        "\n",
        "        # Update gradients\n",
        "        self.grads[0][...] = dWx\n",
        "        self.grads[1][...] = dWh\n",
        "        self.grads[2][...] = db\n",
        "\n",
        "        return dx, dh_prev\n"
      ],
      "metadata": {
        "id": "6SUsPJpRZzVY"
      },
      "execution_count": 10,
      "outputs": []
    },
    {
      "cell_type": "markdown",
      "source": [
        "**Implementation of Time RNN Layer**"
      ],
      "metadata": {
        "id": "3FHpCS4laRyY"
      }
    },
    {
      "cell_type": "code",
      "source": [
        "class TimeRNN:\n",
        "    def __init__(self, Wx, Wh, b, stateful=False):\n",
        "        # Initialize the TimeRNN layer with parameters Wx, Wh, and b\n",
        "        self.params = [Wx, Wh, b]  # Store the parameters\n",
        "        self.grads = [np.zeros_like(Wx), np.zeros_like(Wh), np.zeros_like(b)]  # Initialize gradients with zeros\n",
        "        self.layers = None  # Initialize layers list\n",
        "\n",
        "        self.h, self.dh = None, None  # Initialize hidden state and its gradient\n",
        "        self.stateful = stateful  # Determine if the layer is stateful or not\n",
        "\n",
        "    def set_state(self, h):\n",
        "        # Set the hidden state\n",
        "        self.h = h\n",
        "\n",
        "    def reset_state(self):\n",
        "        # Reset the hidden state\n",
        "        self.h = None\n",
        "\n",
        "    def forward(self, xs):\n",
        "        # Perform forward pass of the TimeRNN layer\n",
        "        Wx, Wh, b = self.params\n",
        "        N, T, D = xs.shape  # N(batch), T(time steps), D(input size)\n",
        "        D, H = Wx.shape\n",
        "\n",
        "        self.layers = []  # Initialize layers list\n",
        "        hs = np.empty((N, T, H), dtype='f')  # Initialize hidden states array\n",
        "\n",
        "        if not self.stateful or self.h is None:  # If not stateful or hidden state is not set\n",
        "            self.h = np.zeros((N, H), dtype='f')  # Initialize hidden state\n",
        "\n",
        "        for t in range(T):\n",
        "            layer = RNN(*self.params)  # Create RNN layer\n",
        "            self.h = layer.forward(xs[:, t, :], self.h)  # Perform forward pass for each time step\n",
        "            hs[:, t, :] = self.h  # Store hidden state\n",
        "            self.layers.append(layer)  # Append RNN layer to layers list\n",
        "\n",
        "        return hs\n",
        "\n",
        "    def backward(self, dhs):\n",
        "        # Perform backward pass of the TimeRNN layer\n",
        "        Wx, Wh, b = self.params\n",
        "        N, T, H = dhs.shape\n",
        "        D, H = Wx.shape\n",
        "\n",
        "        dxs = np.empty((N, T, D), dtype='f')  # Initialize gradient of input data\n",
        "        dh = 0  # Initialize gradient of hidden state\n",
        "        grads = [0, 0, 0]  # Initialize gradients of parameters\n",
        "\n",
        "        for t in reversed(range(T)):\n",
        "            layer = self.layers[t]  # Retrieve RNN layer\n",
        "            dx, dh = layer.backward(dhs[:, t, :] + dh)  # Perform backward pass for each time step\n",
        "            dxs[:, t, :] = dx  # Store gradient of input data\n",
        "\n",
        "            for i, grad in enumerate(layer.grads):\n",
        "                grads[i] += grad  # Accumulate gradients\n",
        "\n",
        "        for i, grad in enumerate(grads):\n",
        "            self.grads[i][...] = grad  # Update parameter gradients\n",
        "        self.dh = dh  # Store gradient of hidden state\n",
        "\n",
        "        return dxs\n"
      ],
      "metadata": {
        "id": "b93Z1GvqaUGM"
      },
      "execution_count": 12,
      "outputs": []
    },
    {
      "cell_type": "markdown",
      "source": [
        "**Implementation of RNNLM**"
      ],
      "metadata": {
        "id": "UZz-tZGIbCUX"
      }
    },
    {
      "cell_type": "code",
      "source": [
        "import sys\n",
        "sys.path.append('..')  # Adds parent directory to the system path\n",
        "\n",
        "import numpy as np  # Imports NumPy library\n",
        "from common.time_layers import *  # Imports time-related layers from a common module\n",
        "\n",
        "class SimpleRnnlm:\n",
        "    def __init__(self, vocab_size, wordvec_size, hidden_size):\n",
        "        # Constructor method for SimpleRnnlm class\n",
        "        V, D, H = vocab_size, wordvec_size, hidden_size\n",
        "        rn = np.random.randn  # Random number generator function\n",
        "\n",
        "        # Xavier initialization for weights\n",
        "        embed_W = (rn(V, D) / 100).astype('f')  # Embedding layer weights\n",
        "        rnn_Wx = (rn(D, H) / np.sqrt(D)).astype('f')  # RNN input-to-hidden weights\n",
        "        rnn_Wh = (rn(H, H) / np.sqrt(H)).astype('f')  # RNN hidden-to-hidden weights\n",
        "        rnn_b = np.zeros(H).astype('f')  # RNN bias\n",
        "        affine_W = (rn(H, V) / np.sqrt(H)).astype('f')  # Output layer weights\n",
        "        affine_b = np.zeros(V).astype('f')  # Output layer bias\n",
        "\n",
        "        # Initialize layers\n",
        "        self.layers = [\n",
        "            TimeEmbedding(embed_W),  # Time-distributed embedding layer\n",
        "            TimeRNN(rnn_Wx, rnn_Wh, rnn_b, stateful=True),  # Time-distributed RNN layer\n",
        "            TimeAffine(affine_W, affine_b),  # Time-distributed affine layer\n",
        "        ]\n",
        "        self.loss_layer = TimeSoftmaxWithLoss()  # Time-distributed softmax with loss layer\n",
        "        self.rnn_layer = self.layers[1]  # RNN layer\n",
        "\n",
        "        # Parameters and gradients initialization\n",
        "        self.params, self.grads = [], []\n",
        "        for layer in self.layers:\n",
        "            self.params += layer.params\n",
        "            self.grads += layer.grads\n",
        "\n",
        "    def forward(self, xs, ts):\n",
        "        # Forward pass through the network\n",
        "        for layer in self.layers:\n",
        "            xs = layer.forward(xs)\n",
        "        loss = self.loss_layer.forward(xs, ts)  # Compute loss\n",
        "        return loss\n",
        "\n",
        "    def backward(self, dout=1):\n",
        "        # Backward pass through the network\n",
        "        dout = self.loss_layer.backward(dout)  # Compute gradients of loss\n",
        "        for layer in reversed(self.layers):\n",
        "            dout = layer.backward(dout)  # Backpropagate gradients\n",
        "        return dout\n",
        "\n",
        "    def reset_state(self):\n",
        "        # Reset the state of the RNN layer\n",
        "        self.rnn_layer.reset_state()\n"
      ],
      "metadata": {
        "id": "MFSo2FoMbKOo"
      },
      "execution_count": 13,
      "outputs": []
    },
    {
      "cell_type": "markdown",
      "source": [
        " **RNNLM's Training Code**"
      ],
      "metadata": {
        "id": "VqAQnvh7eudr"
      }
    },
    {
      "cell_type": "code",
      "source": [
        "\n",
        "%matplotlib inline\n",
        "import sys\n",
        "sys.path.append('..')  # Adds parent directory to the system path\n",
        "\n",
        "import matplotlib.pyplot as plt  # Imports matplotlib library for plotting\n",
        "import numpy as np  # Imports NumPy library\n",
        "from common.optimizer import SGD  # Imports SGD optimizer from a common module\n",
        "from dataset import ptb  # Imports PTB dataset module\n",
        "from simple_rnnlm import SimpleRnnlm  # Imports SimpleRnnlm class from a custom module\n",
        "\n",
        "# Hyperparameters\n",
        "batch_size = 10\n",
        "wordvec_size = 100\n",
        "hidden_size = 100\n",
        "time_size = 5\n",
        "lr = 0.1\n",
        "max_epoch = 100\n",
        "\n",
        "# Load and preprocess PTB dataset\n",
        "corpus, word_to_id, id_to_word = ptb.load_data('train')\n",
        "corpus_size = 1000  # Limit corpus size for faster training\n",
        "corpus = corpus[:corpus_size]\n",
        "vocab_size = int(max(corpus) + 1)\n",
        "\n",
        "# Split corpus into input and target sequences\n",
        "xs = corpus[:-1]  # Input sequence\n",
        "ts = corpus[1:]   # Target sequence\n",
        "data_size = len(xs)\n",
        "print('Corpus size: %d, Vocabulary size: %d' % (corpus_size, vocab_size))\n",
        "\n",
        "# Calculate the number of iterations per epoch\n",
        "max_iters = data_size // (batch_size * time_size)\n",
        "time_idx = 0\n",
        "total_loss = 0\n",
        "loss_count = 0\n",
        "ppl_list = []\n",
        "\n",
        "# Initialize the RNN language model and optimizer\n",
        "model = SimpleRnnlm(vocab_size, wordvec_size, hidden_size)\n",
        "optimizer = SGD(lr)\n",
        "\n",
        "# Determine offsets for each batch to create mini-batches\n",
        "jump = (corpus_size - 1) // batch_size\n",
        "offsets = [i * jump for i in range(batch_size)]\n",
        "\n",
        "# Training loop\n",
        "for epoch in range(max_epoch):\n",
        "    for iter in range(max_iters):\n",
        "        # Prepare mini-batch inputs and targets\n",
        "        batch_x = np.empty((batch_size, time_size), dtype='i')\n",
        "        batch_t = np.empty((batch_size, time_size), dtype='i')\n",
        "        for t in range(time_size):\n",
        "            for i, offset in enumerate(offsets):\n",
        "                batch_x[i, t] = xs[(offset + time_idx) % data_size]\n",
        "                batch_t[i, t] = ts[(offset + time_idx) % data_size]\n",
        "            time_idx += 1\n",
        "\n",
        "        # Forward pass, backward pass, and parameter update\n",
        "        loss = model.forward(batch_x, batch_t)\n",
        "        model.backward()\n",
        "        optimizer.update(model.params, model.grads)\n",
        "        total_loss += loss\n",
        "        loss_count += 1\n",
        "\n",
        "    # Compute perplexity and print progress\n",
        "    ppl = np.exp(total_loss / loss_count)\n",
        "    print('| Epoch %d | Perplexity %.2f' % (epoch+1, ppl))\n",
        "    ppl_list.append(float(ppl))\n",
        "    total_loss, loss_count = 0, 0\n",
        "\n",
        "# Plot the training perplexity over epochs\n",
        "x = np.arange(len(ppl_list))\n",
        "plt.plot(x, ppl_list, label='train')\n",
        "plt.xlabel('Epochs')\n",
        "plt.ylabel('Perplexity')\n",
        "plt.show()\n"
      ],
      "metadata": {
        "colab": {
          "base_uri": "https://localhost:8080/",
          "height": 1000
        },
        "id": "rUd8btxGdPtD",
        "outputId": "01c20baa-d116-4b75-b27b-e9855c93cd66"
      },
      "execution_count": 15,
      "outputs": [
        {
          "output_type": "stream",
          "name": "stdout",
          "text": [
            "Corpus size: 1000, Vocabulary size: 418\n",
            "| Epoch 1 | Perplexity 395.29\n",
            "| Epoch 2 | Perplexity 266.92\n",
            "| Epoch 3 | Perplexity 224.50\n",
            "| Epoch 4 | Perplexity 215.38\n",
            "| Epoch 5 | Perplexity 205.50\n",
            "| Epoch 6 | Perplexity 201.89\n",
            "| Epoch 7 | Perplexity 197.68\n",
            "| Epoch 8 | Perplexity 196.69\n",
            "| Epoch 9 | Perplexity 192.34\n",
            "| Epoch 10 | Perplexity 192.68\n",
            "| Epoch 11 | Perplexity 188.06\n",
            "| Epoch 12 | Perplexity 191.26\n",
            "| Epoch 13 | Perplexity 190.16\n",
            "| Epoch 14 | Perplexity 190.18\n",
            "| Epoch 15 | Perplexity 188.87\n",
            "| Epoch 16 | Perplexity 185.37\n",
            "| Epoch 17 | Perplexity 183.89\n",
            "| Epoch 18 | Perplexity 180.81\n",
            "| Epoch 19 | Perplexity 181.43\n",
            "| Epoch 20 | Perplexity 181.62\n",
            "| Epoch 21 | Perplexity 180.82\n",
            "| Epoch 22 | Perplexity 175.70\n",
            "| Epoch 23 | Perplexity 173.34\n",
            "| Epoch 24 | Perplexity 174.77\n",
            "| Epoch 25 | Perplexity 170.39\n",
            "| Epoch 26 | Perplexity 172.01\n",
            "| Epoch 27 | Perplexity 165.94\n",
            "| Epoch 28 | Perplexity 163.99\n",
            "| Epoch 29 | Perplexity 160.52\n",
            "| Epoch 30 | Perplexity 155.50\n",
            "| Epoch 31 | Perplexity 154.93\n",
            "| Epoch 32 | Perplexity 150.52\n",
            "| Epoch 33 | Perplexity 149.74\n",
            "| Epoch 34 | Perplexity 143.94\n",
            "| Epoch 35 | Perplexity 143.20\n",
            "| Epoch 36 | Perplexity 137.89\n",
            "| Epoch 37 | Perplexity 132.63\n",
            "| Epoch 38 | Perplexity 130.06\n",
            "| Epoch 39 | Perplexity 124.19\n",
            "| Epoch 40 | Perplexity 119.85\n",
            "| Epoch 41 | Perplexity 119.71\n",
            "| Epoch 42 | Perplexity 112.40\n",
            "| Epoch 43 | Perplexity 107.12\n",
            "| Epoch 44 | Perplexity 102.16\n",
            "| Epoch 45 | Perplexity 101.08\n",
            "| Epoch 46 | Perplexity 99.87\n",
            "| Epoch 47 | Perplexity 92.85\n",
            "| Epoch 48 | Perplexity 88.54\n",
            "| Epoch 49 | Perplexity 84.40\n",
            "| Epoch 50 | Perplexity 81.52\n",
            "| Epoch 51 | Perplexity 76.89\n",
            "| Epoch 52 | Perplexity 74.42\n",
            "| Epoch 53 | Perplexity 71.00\n",
            "| Epoch 54 | Perplexity 67.23\n",
            "| Epoch 55 | Perplexity 64.21\n",
            "| Epoch 56 | Perplexity 60.59\n",
            "| Epoch 57 | Perplexity 58.13\n",
            "| Epoch 58 | Perplexity 54.97\n",
            "| Epoch 59 | Perplexity 51.48\n",
            "| Epoch 60 | Perplexity 48.28\n",
            "| Epoch 61 | Perplexity 47.81\n",
            "| Epoch 62 | Perplexity 44.57\n",
            "| Epoch 63 | Perplexity 40.76\n",
            "| Epoch 64 | Perplexity 39.59\n",
            "| Epoch 65 | Perplexity 36.60\n",
            "| Epoch 66 | Perplexity 34.53\n",
            "| Epoch 67 | Perplexity 33.79\n",
            "| Epoch 68 | Perplexity 30.61\n",
            "| Epoch 69 | Perplexity 29.65\n",
            "| Epoch 70 | Perplexity 28.32\n",
            "| Epoch 71 | Perplexity 26.39\n",
            "| Epoch 72 | Perplexity 23.83\n",
            "| Epoch 73 | Perplexity 23.89\n",
            "| Epoch 74 | Perplexity 22.41\n",
            "| Epoch 75 | Perplexity 21.60\n",
            "| Epoch 76 | Perplexity 19.90\n",
            "| Epoch 77 | Perplexity 18.57\n",
            "| Epoch 78 | Perplexity 18.08\n",
            "| Epoch 79 | Perplexity 16.43\n",
            "| Epoch 80 | Perplexity 15.64\n",
            "| Epoch 81 | Perplexity 15.00\n",
            "| Epoch 82 | Perplexity 14.16\n",
            "| Epoch 83 | Perplexity 13.12\n",
            "| Epoch 84 | Perplexity 12.29\n",
            "| Epoch 85 | Perplexity 12.04\n",
            "| Epoch 86 | Perplexity 11.28\n",
            "| Epoch 87 | Perplexity 10.83\n",
            "| Epoch 88 | Perplexity 10.67\n",
            "| Epoch 89 | Perplexity 10.10\n",
            "| Epoch 90 | Perplexity 9.32\n",
            "| Epoch 91 | Perplexity 8.94\n",
            "| Epoch 92 | Perplexity 8.52\n",
            "| Epoch 93 | Perplexity 8.82\n",
            "| Epoch 94 | Perplexity 7.80\n",
            "| Epoch 95 | Perplexity 7.41\n",
            "| Epoch 96 | Perplexity 7.11\n",
            "| Epoch 97 | Perplexity 6.57\n",
            "| Epoch 98 | Perplexity 7.06\n",
            "| Epoch 99 | Perplexity 5.99\n",
            "| Epoch 100 | Perplexity 5.92\n"
          ]
        },
        {
          "output_type": "display_data",
          "data": {
            "text/plain": [
              "<Figure size 640x480 with 1 Axes>"
            ],
            "image/png": "[encoded data removed]"
          },
          "metadata": {}
        }
      ]
    },
    {
      "cell_type": "code",
      "source": [],
      "metadata": {
        "id": "zEgwV-5Mdp5o"
      },
      "execution_count": null,
      "outputs": []
    }
  ]
}