{
  "nbformat": 4,
  "nbformat_minor": 0,
  "metadata": {
    "colab": {
      "provenance": [],
      "authorship_tag": "ABX9TyP4/x4vkAxQA5LM4FIEjLDR",
      "include_colab_link": true
    },
    "kernelspec": {
      "name": "python3",
      "display_name": "Python 3"
    },
    "language_info": {
      "name": "python"
    }
  },
  "cells": [
    {
      "cell_type": "markdown",
      "metadata": {
        "id": "view-in-github",
        "colab_type": "text"
      },
      "source": [
        "<a href=\"https://colab.research.google.com/github/ngoda/Conversations/blob/master/ch5Assignment.ipynb\" target=\"_parent\"><img src=\"https://colab.research.google.com/assets/colab-badge.svg\" alt=\"Open In Colab\"/></a>"
      ]
    },
    {
      "cell_type": "code",
      "execution_count": 6,
      "metadata": {
        "id": "huoRfocAlxO4"
      },
      "outputs": [],
      "source": [
        "# Importing the numpy library.\n",
        "import numpy as np\n",
        "\n",
        "# Definition of the SoftmaxWithLoss class.\n",
        "class SoftmaxWithLoss:\n",
        "    def __init__(self):\n",
        "        # Initializing instance variables to store loss, predicted probabilities, and true labels.\n",
        "        self.loss = None\n",
        "        self.y = None\n",
        "        self.t = None\n",
        "\n",
        "    # Forward propagation method.\n",
        "    def forward(self, x, t):\n",
        "        # Storing the true labels and computing the softmax activation for predicted probabilities.\n",
        "        self.t = t\n",
        "        self.y = softmax(x)\n",
        "        # Computing the cross-entropy loss between predicted and true labels.\n",
        "        self.loss = cross_entropy_error(self.y, self.t)\n",
        "        return self.loss\n",
        "\n",
        "    # Backward propagation method.\n",
        "    def backward(self, dout=1):\n",
        "        # Calculating the batch size.\n",
        "        batch_size = self.t.shape[0]\n",
        "\n",
        "        # Handling the case where the shape of true labels and predicted probabilities are the same.\n",
        "        if self.t.size == self.y.size:\n",
        "            # Computing the gradient of the loss with respect to predicted probabilities.\n",
        "            dx = (self.y - self.t) / batch_size\n",
        "        else:\n",
        "            # Creating a copy of predicted probabilities and adjusting the gradient for true labels.\n",
        "            dx = self.y.copy()\n",
        "            dx[np.arange(batch_size), self.t] -= 1\n",
        "        return dx\n",
        "\n",
        "\n"
      ]
    },
    {
      "cell_type": "code",
      "source": [
        "!pip install common"
      ],
      "metadata": {
        "colab": {
          "base_uri": "https://localhost:8080/"
        },
        "id": "WbSeBYJm4CHM",
        "outputId": "06cce288-f2fd-4c84-a1c2-2fb3477d779d"
      },
      "execution_count": null,
      "outputs": [
        {
          "output_type": "stream",
          "name": "stdout",
          "text": [
            "Collecting common\n",
            "  Downloading common-0.1.2.tar.gz (3.5 kB)\n",
            "  Preparing metadata (setup.py) ... \u001b[?25l\u001b[?25hdone\n",
            "Building wheels for collected packages: common\n",
            "  Building wheel for common (setup.py) ... \u001b[?25l\u001b[?25hdone\n",
            "  Created wheel for common: filename=common-0.1.2-py3-none-any.whl size=3707 sha256=61c289291d440d75465e66d91fd72ec4fed4448153fd32b82ab8dff47f41b55a\n",
            "  Stored in directory: /root/.cache/pip/wheels/c0/74/13/fe3274a9137054148c69e3f0424bd2fcf068ed25998047ecb5\n",
            "Successfully built common\n",
            "Installing collected packages: common\n",
            "Successfully installed common-0.1.2\n"
          ]
        }
      ]
    },
    {
      "cell_type": "markdown",
      "source": [
        "**Implementing a neural network with Backpropagation**"
      ],
      "metadata": {
        "id": "8gLGbm-3GaoX"
      }
    },
    {
      "cell_type": "code",
      "source": [
        "# Importing necessary modules and packages.\n",
        "import sys\n",
        "import os\n",
        "import common  # Assuming 'common' module is in the parent directory.\n",
        "from common.layers import *  # Importing layers from the 'common' module.\n",
        "from common.gradient import numerical_gradient  # Importing numerical_gradient function.\n",
        "from collections import OrderedDict  # Importing OrderedDict for defining layer sequence.\n",
        "\n",
        "# Definition of the TwoLayersNet class.\n",
        "class TwoLayersNet:\n",
        "    def __init__(self, input_size, hidden_size, output_size, weight_init_std=0.01):\n",
        "        # Initializing parameters for the neural network.\n",
        "        self.params = {}\n",
        "        self.params['W1'] = weight_init_std * np.random.randn(input_size, hidden_size)\n",
        "        self.params['b1'] = np.zeros(hidden_size)\n",
        "        self.params['W2'] = weight_init_std * np.random.randn(hidden_size, output_size)\n",
        "        self.params['b2'] = np.zeros(output_size)\n",
        "\n",
        "        # Defining layers for the neural network using OrderedDict to maintain sequence.\n",
        "        self.layers = OrderedDict()\n",
        "        self.layers['Affine1'] = Affine(self.params['W1'], self.params['b1'])\n",
        "        self.layers['Relu1'] = Relu()\n",
        "        self.layers['Affine2'] = Affine(self.params['W2'], self.params['b2'])\n",
        "\n",
        "        # Initializing the last layer as SoftmaxWithLoss.\n",
        "        self.lastLayer = SoftmaxWithLoss()\n",
        "\n",
        "    # Method to make predictions given input data.\n",
        "    def predict(self, x):\n",
        "        # Forward propagation through all layers.\n",
        "        for layer in self.layers.values():\n",
        "            x = layer.forward(x)\n",
        "        return x\n",
        "\n",
        "    # Method to compute the loss given input data and true labels.\n",
        "    def loss(self, x, t):\n",
        "        # Making predictions for the input data.\n",
        "        y = self.predict(x)\n",
        "        # Computing the loss using the last layer.\n",
        "        return self.lastLayer.forward(y, t)\n",
        "\n",
        "\n",
        "\n",
        "\n"
      ],
      "metadata": {
        "id": "LmpwZdDdotT0"
      },
      "execution_count": 7,
      "outputs": []
    },
    {
      "cell_type": "code",
      "source": [
        "# Method to compute the accuracy of the model given input data and true labels.\n",
        "def accuracy(self, x, t):\n",
        "    # Making predictions for the input data.\n",
        "    y = self.predict(x)\n",
        "    # Extracting the indices of the maximum value along axis 1 (column-wise) to get predicted labels.\n",
        "    y = np.argmax(y, axis=1)\n",
        "    # If true labels are not one-dimensional, extract the indices of the maximum value along axis 1.\n",
        "    if t.ndim != 1:\n",
        "        t = np.argmax(t, axis=1)\n",
        "    # Computing accuracy by comparing predicted labels with true labels and calculating the ratio.\n",
        "    accuracy = np.sum(y == t) / float(x.shape[0])\n",
        "    return accuracy\n",
        "\n",
        "# Method to compute the numerical gradient of the loss function with respect to parameters.\n",
        "def numerical_gradient(self, x, t):\n",
        "    # Defining a lambda function to compute the loss with respect to parameters.\n",
        "    loss_W = lambda W: self.loss(x, t)\n",
        "    # Initializing an empty dictionary to store gradients.\n",
        "    grads = {}\n",
        "    # Computing gradients for each parameter using numerical differentiation.\n",
        "    grads['W1'] = numerical_gradient(loss_W, self.params['W1'])\n",
        "    grads['b1'] = numerical_gradient(loss_W, self.params['b1'])\n",
        "    grads['W2'] = numerical_gradient(loss_W, self.params['W2'])\n",
        "    grads['b2'] = numerical_gradient(loss_W, self.params['b2'])\n",
        "    # Returning the computed gradients.\n",
        "    return grads\n",
        "\n",
        "# Method to compute the gradient of the loss function with respect to parameters using backpropagation.\n",
        "def gradient(self, x, t):\n",
        "    # Forward pass to compute the loss.\n",
        "    self.loss(x, t)\n",
        "    # Initializing gradient of the loss from the last layer.\n",
        "    dout = 1\n",
        "    # Backward pass to compute gradients using backpropagation.\n",
        "    dout = self.lastLayer.backward(dout)\n",
        "    layers = list(self.layers.values())\n",
        "    layers.reverse()\n",
        "    for layer in layers:\n",
        "        dout = layer.backward(dout)\n",
        "    # Extracting gradients for each parameter from the layers.\n",
        "    grads = {}\n",
        "    grads['W1'], grads['b1'] = self.layers['Affine1'].dW, self.layers['Affine1'].db\n",
        "    grads['W2'], grads['b2'] = self.layers['Affine2'].dW, self.layers['Affine2'].db\n",
        "    # Returning the computed gradients.\n",
        "    return grads\n"
      ],
      "metadata": {
        "id": "H7kRynFg4ANO"
      },
      "execution_count": 8,
      "outputs": []
    },
    {
      "cell_type": "markdown",
      "source": [
        "**Verifying the slope obtained by Backpropagation**"
      ],
      "metadata": {
        "id": "sjjhKA8jGpiC"
      }
    },
    {
      "cell_type": "code",
      "source": [
        "import sys\n",
        "import os\n",
        "import numpy as np\n",
        "from dataset.mnist import load_mnist\n",
        "from common.two_layer_net import TwoLayerNet\n",
        "\n",
        "# Appending the parent directory to the system path to access necessary modules.\n",
        "sys.path.append(os.pardir)\n",
        "\n",
        "# Loading MNIST dataset with normalization and one-hot label encoding.\n",
        "(x_train, t_train), (x_test, t_test) = load_mnist(normalize=True, one_hot_label=True)\n",
        "\n",
        "# Creating a TwoLayerNet instance with specified input, hidden, and output sizes.\n",
        "network = TwoLayerNet(input_size=784, hidden_size=50, output_size=10)\n",
        "\n",
        "# Selecting a batch of input and target data.\n",
        "x_batch = x_train[:3]\n",
        "t_batch = t_train[:3]\n",
        "\n",
        "# Computing gradients using both numerical differentiation and backpropagation.\n",
        "grad_numerical = network.numerical_gradient(x_batch, t_batch)\n",
        "grad_backprop = network.gradient(x_batch, t_batch)\n",
        "\n",
        "# Comparing the gradients computed using numerical differentiation and backpropagation.\n",
        "for key in grad_numerical.keys():\n",
        "    # Calculating the average absolute difference between gradients.\n",
        "    diff = np.average(np.abs(grad_backprop[key] - grad_numerical[key]))\n",
        "    # Printing the key and the average absolute difference.\n",
        "    print(key + \":\" + str(diff))\n",
        "\n"
      ],
      "metadata": {
        "colab": {
          "base_uri": "https://localhost:8080/"
        },
        "id": "lnrJIDlOGzXA",
        "outputId": "37ed741c-8708-4a52-e11e-c16ea8e6fee8"
      },
      "execution_count": 9,
      "outputs": [
        {
          "output_type": "stream",
          "name": "stdout",
          "text": [
            "W1:1.9230875415305199e-10\n",
            "b1:1.0187862807553312e-09\n",
            "W2:7.099420853265425e-08\n",
            "b2:1.411706451820427e-07\n"
          ]
        }
      ]
    },
    {
      "cell_type": "markdown",
      "source": [
        "**Implementing Learning Using Backpropagation**"
      ],
      "metadata": {
        "id": "CFAchD56KsVW"
      }
    },
    {
      "cell_type": "code",
      "source": [
        "# Import necessary libraries\n",
        "import sys, os\n",
        "\n",
        "# Add parent directory to the path (assuming the dataset and common folders are there)\n",
        "sys.path.append(os.pardir)\n",
        "\n",
        "# Import libraries\n",
        "import numpy as np\n",
        "from dataset.mnist import load_mnist\n",
        "from common.two_layer_net import TwoLayerNet\n",
        "\n",
        "# Load the MNIST dataset (normalized and one-hot encoded labels)\n",
        "(x_train, t_train), (x_test, t_test) = load_mnist(normalize=True, one_hot_label=True)\n",
        "\n",
        "# Define the neural network architecture\n",
        "network = TwoLayerNet(input_size=784, hidden_size=50, output_size=10)\n",
        "\n",
        "# Hyperparameters\n",
        "iters_num = 10000  # Number of training iterations\n",
        "train_size = x_train.shape[0]  # Size of the training data\n",
        "batch_size = 100     # Batch size for mini-batch training\n",
        "learning_rate = 0.1  # Learning rate\n",
        "\n",
        "# Lists to store training loss and accuracy\n",
        "train_loss_list = []\n",
        "train_acc_list = []\n",
        "test_acc_list = []\n",
        "\n",
        "# Number of iterations per epoch (considering train_size, batch_size, and minimum of 1)\n",
        "iter_per_epoch = max(train_size, batch_size, 1)\n",
        "\n",
        "# Training loop\n",
        "for i in range(iters_num):\n",
        "    # Create a random mask for selecting a batch of data\n",
        "    batch_mask = np.random.choice(train_size, batch_size)\n",
        "    x_batch = x_train[batch_mask]  # Select a batch of training data\n",
        "    t_batch = t_train[batch_mask]  # Select corresponding labels\n",
        "\n",
        "    # Calculate gradients (commented out numerical gradient for efficiency)\n",
        "    # grad = network.numerical_gradient(x_batch, t_batch)\n",
        "    grad = network.gradient(x_batch, t_batch)  # Use more efficient gradient calculation\n",
        "\n",
        "    # Update network weights with gradient descent\n",
        "    for key in ('W1', 'b1', 'W2', 'b2'):\n",
        "        network.params[key] -= learning_rate * grad[key]\n",
        "\n",
        "    # Calculate loss for the current batch\n",
        "    loss = network.loss(x_batch, t_batch)\n",
        "    train_loss_list.append(loss)\n",
        "\n",
        "    # Evaluate and record training and test accuracy after each epoch\n",
        "    if i % iter_per_epoch == 0:\n",
        "        train_acc = network.accuracy(x_train, t_train)\n",
        "        test_acc = network.accuracy(x_test, t_test)\n",
        "        train_acc_list.append(train_acc)\n",
        "        test_acc_list.append(test_acc)\n",
        "        print(\"Training Accuracy:\", train_acc, \"Test Accuracy:\", test_acc)\n"
      ],
      "metadata": {
        "colab": {
          "base_uri": "https://localhost:8080/"
        },
        "id": "Ck1N2ICVKv4k",
        "outputId": "df30bd27-bf57-46b2-d861-c6e31fc264b7"
      },
      "execution_count": 12,
      "outputs": [
        {
          "output_type": "stream",
          "name": "stdout",
          "text": [
            "Training Accuracy: 0.10218333333333333 Test Accuracy: 0.101\n"
          ]
        }
      ]
    }
  ]
}